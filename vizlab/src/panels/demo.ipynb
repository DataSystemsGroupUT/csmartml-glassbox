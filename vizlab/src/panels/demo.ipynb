{
 "cells": [
  {
   "cell_type": "code",
   "execution_count": 1,
   "metadata": {},
   "outputs": [],
   "source": [
    "import os\n",
    "from osgeo import gdal, gdalconst"
   ]
  },
  {
   "cell_type": "code",
   "execution_count": 10,
   "metadata": {},
   "outputs": [],
   "source": [
    "def add_crs_ndvi(inputfile, referencefile, outputfile):\n",
    "    input = gdal.Open(inputfile, gdalconst.GA_ReadOnly)\n",
    "    band = input.GetRasterBand(1)\n",
    "    arr = band.ReadAsArray()\n",
    "\n",
    "    reference = gdal.Open(referencefile, gdalconst.GA_ReadOnly)\n",
    "    referenceProj = reference.GetProjection()\n",
    "    referenceTrans = reference.GetGeoTransform()\n",
    "    x = reference.RasterXSize\n",
    "    y = reference.RasterYSize\n",
    "\n",
    "    driver = gdal.GetDriverByName('GTiff')\n",
    "    output = driver.Create(outputfile, x, y, 1, gdal.GDT_Int16)\n",
    "    output.SetGeoTransform(referenceTrans)\n",
    "    output.SetProjection(referenceProj)\n",
    "    output.GetRasterBand(1).WriteArray(arr)\n",
    "    del output\n"
   ]
  },
  {
   "cell_type": "code",
   "execution_count": 9,
   "metadata": {},
   "outputs": [],
   "source": [
    "source_dir = \"/Users/ava/Desktop/Q/\"\n",
    "inp_file = os.path.join(source_dir, \"1_87_20210618T154824_20210624T154855_T35VMF_20210623T094031_7922_2048.png\")\n",
    "ref_file = os.path.join(source_dir, \"1_87_20210618T154824_20210624T154855_T35VMF_20210623T094031_7922_2048.tif\")\n",
    "out_file = os.path.join(source_dir, \"sample.tif\")\n",
    "\n",
    "add_crs_ndvi(inp_file, ref_file, out_file)"
   ]
  },
  {
   "cell_type": "code",
   "execution_count": 5,
   "metadata": {},
   "outputs": [
    {
     "data": {
      "text/plain": [
       "False"
      ]
     },
     "execution_count": 5,
     "metadata": {},
     "output_type": "execute_result"
    }
   ],
   "source": [
    "os.path.exists(inp_file)"
   ]
  },
  {
   "cell_type": "code",
   "execution_count": 6,
   "metadata": {},
   "outputs": [
    {
     "data": {
      "text/plain": [
       "'~/Desktop/Q/1_87_20210612T154855_20210618T154824_T35VNF_20210618T094029_6656_5632.png'"
      ]
     },
     "execution_count": 6,
     "metadata": {},
     "output_type": "execute_result"
    }
   ],
   "source": [
    "inp_file"
   ]
  },
  {
   "cell_type": "code",
   "execution_count": 13,
   "metadata": {},
   "outputs": [],
   "source": [
    "def array_to_tiff(arr, referencefile, outputfile):\n",
    "    reference = gdal.Open(referencefile, gdalconst.GA_ReadOnly)\n",
    "    referenceProj = reference.GetProjection()\n",
    "    referenceTrans = reference.GetGeoTransform()\n",
    "    x = reference.RasterXSize\n",
    "    y = reference.RasterYSize\n",
    "\n",
    "    # os.remove(referencefile)\n",
    "\n",
    "    driver = gdal.GetDriverByName('GTiff')\n",
    "    output = driver.Create(outputfile, x, y, 1, gdal.GDT_Int16)\n",
    "    output.SetGeoTransform(referenceTrans)\n",
    "    output.SetProjection(referenceProj)\n",
    "    output.GetRasterBand(1).WriteArray(arr)\n",
    "    del output"
   ]
  },
  {
   "cell_type": "code",
   "execution_count": 39,
   "metadata": {},
   "outputs": [],
   "source": [
    "# 1_87_20210531T154854_20210606T154824.tif\n",
    "# /Users/ava/Documents/Work/kz/notebooks/Transit/ARD-EE-RR/Rasters/EE_ARD_MARCH_MAY\n",
    "\n",
    "dd = \"/Users/ava/Documents/Work/kz/notebooks/Transit/ARD-EE-RR/Rasters/EE_ARD_MARCH_MAY\"\n",
    "df = os.path.join(dd, \"1_87_20210507T154852_20210513T154813_T35VMF_20210514T094031_5874_4608.tif\")\n",
    "of = os.path.join(dd, \"tile.tif\")\n",
    "\n",
    "# add_crs_ndvi(df, df, of)"
   ]
  },
  {
   "cell_type": "code",
   "execution_count": 84,
   "metadata": {},
   "outputs": [],
   "source": [
    "\n",
    "import numpy as np\n",
    "def create_constant_raster(r_in, r_out):\n",
    "    reference = gdal.Open(r_in, gdalconst.GA_ReadOnly)\n",
    "    referenceProj = reference.GetProjection()\n",
    "    referenceTrans = reference.GetGeoTransform()\n",
    "    x = reference.RasterXSize\n",
    "    y = reference.RasterYSize\n",
    "\n",
    "    band = reference.GetRasterBand(1)\n",
    "    arr = band.ReadAsArray()\n",
    "    zarr = np.full_like(arr, -32678)\n",
    "\n",
    "    driver = gdal.GetDriverByName('GTiff')\n",
    "    output = driver.Create(r_out, x, y, 1, gdal.GDT_Int16)\n",
    "    output.SetGeoTransform(referenceTrans)\n",
    "    output.SetProjection(referenceProj)\n",
    "    output.GetRasterBand(1).WriteArray(zarr)\n",
    "    del output"
   ]
  },
  {
   "cell_type": "code",
   "execution_count": 40,
   "metadata": {},
   "outputs": [],
   "source": [
    "# Get parcels from tile\n",
    "from geotiff import GeoTiff\n",
    "\n",
    "source_tile = np.array(GeoTiff(df).read())[:, :, 4]\n",
    "source_parcel_tile = np.array(GeoTiff(of).read())"
   ]
  },
  {
   "cell_type": "code",
   "execution_count": 32,
   "metadata": {},
   "outputs": [
    {
     "name": "stdout",
     "output_type": "stream",
     "text": [
      "Time elapsed: 0.01s\n"
     ]
    }
   ],
   "source": [
    "import time\n",
    "\n",
    "s = time.time()\n",
    "pids = np.unique(source_parcel_tile)\n",
    "print(\"Time elapsed: {}s\".format(round(time.time()-s, 2)))"
   ]
  },
  {
   "cell_type": "code",
   "execution_count": 3,
   "metadata": {},
   "outputs": [],
   "source": [
    "# Get parcels from tile\n",
    "import shutil\n",
    "import time\n",
    "\n",
    "mask_parcels = lambda geom, r_out: \"gdal_rasterize -a PARCEL_FOR {} {}\".format(geom, r_out)\n",
    "constant_raster = lambda r_in, r_out: \"gdal_create -if {} {}\".format(r_in, r_out)\n",
    "\n",
    "dd = \"/Users/ava/Documents/Work/kz/notebooks/Transit/ARD-EE-RR/Rasters/EE_ARD_MARCH_MAY\"\n",
    "\n",
    "tile_source_dir = os.path.join(dd, \"train_test\")\n",
    "tile_target_dir = os.path.join(dd, \"train_test_geom\")\n",
    "\n",
    "parcel_shp = os.path.join(dd, \"borders/EE32635.shp\")\n",
    "\n",
    "# if os.path.exists(tile_target_dir):\n",
    "#     shutil.rmtree(tile_target_dir)\n",
    "# os.mkdir(tile_target_dir)\n",
    "\n",
    "st = time.time()\n",
    "\n",
    "for tile in os.listdir(tile_source_dir):\n",
    "    if tile.endswith(\"tif\"):\n",
    "        tilepath = os.path.join(tile_source_dir, tile)\n",
    "        r_out = os.path.join(tile_target_dir, tile)\n",
    "        create_constant_raster(tilepath, r_out)\n",
    "        os.system(mask_parcels(parcel_shp, r_out))\n",
    "    \n",
    "en = time.time()\n",
    "\n",
    "print(\"Time elapsed: {}s\".format(round(en-st, 2)))"
   ]
  },
  {
   "cell_type": "code",
   "execution_count": 66,
   "metadata": {},
   "outputs": [],
   "source": [
    "import tensorflow as tf\n",
    "\n",
    "# Compare ndvi-sndvi MAE\n",
    "def polygon_mae(source_ndvi, source_sndvi, source_parcel, pid):\n",
    "    parcel = np.where(source_parcel == pid, 1, 0)\n",
    "    ndvi = np.where((parcel != 0), source_ndvi, 1)\n",
    "    sndvi = np.where((parcel != 0), source_sndvi, 1)\n",
    "    return tf.reduce_mean(tf.abs(ndvi-sndvi)).numpy()\n",
    "    "
   ]
  },
  {
   "cell_type": "code",
   "execution_count": null,
   "metadata": {},
   "outputs": [],
   "source": [
    "# polygon_mae(source_tile, source_tile, source_parcel_tile, 1000)\n",
    "from multiprocessing import Pool\n",
    "\n",
    "st = time.time()\n",
    "with Pool(5) as p:\n",
    "    print(p.starmap(polygon_mae, [(source_tile, source_tile, source_parcel_tile, pid) for pid in [pids[0]]]))\n",
    "en = time.time()\n",
    "\n",
    "print(\"Time elapsed: {}s\".format(round(en-st, 2)))"
   ]
  },
  {
   "cell_type": "code",
   "execution_count": null,
   "metadata": {},
   "outputs": [],
   "source": [
    "st = time.time()\n",
    "for pid in pids:\n",
    "    print(\"MAE = \", polygon_mae(source_tile, source_tile, source_parcel_tile, pid))\n",
    "en = time.time()\n",
    "\n",
    "print(\"Time elapsed: {}s\".format(round(en-st, 2)))"
   ]
  },
  {
   "cell_type": "code",
   "execution_count": 56,
   "metadata": {},
   "outputs": [],
   "source": [
    "import random\n",
    "\n",
    "pid = random.choice(pids)"
   ]
  },
  {
   "cell_type": "code",
   "execution_count": 57,
   "metadata": {},
   "outputs": [
    {
     "data": {
      "image/png": "[encoded data removed]",
      "text/plain": [
       "<Figure size 720x576 with 1 Axes>"
      ]
     },
     "metadata": {
      "needs_background": "light"
     },
     "output_type": "display_data"
    }
   ],
   "source": [
    "import matplotlib.pyplot as plt\n",
    "\n",
    "parcel_eg = np.where(source_parcel_tile == pid, 1, 0)\n",
    "plt.figure(figsize=(10, 8))\n",
    "plt.imshow(parcel_eg)\n",
    "plt.axis('off')\n",
    "plt.show()"
   ]
  },
  {
   "cell_type": "code",
   "execution_count": 58,
   "metadata": {},
   "outputs": [
    {
     "data": {
      "image/png": "[encoded data removed]",
      "text/plain": [
       "<Figure size 720x576 with 1 Axes>"
      ]
     },
     "metadata": {
      "needs_background": "light"
     },
     "output_type": "display_data"
    }
   ],
   "source": [
    "parcel_ndvi = np.where((parcel_eg != 0), source_tile, 1)\n",
    "plt.figure(figsize=(10, 8))\n",
    "plt.imshow(parcel_ndvi, cmap=\"gray\")\n",
    "plt.axis('off')\n",
    "plt.show()"
   ]
  },
  {
   "cell_type": "code",
   "execution_count": 59,
   "metadata": {},
   "outputs": [
    {
     "data": {
      "text/plain": [
       "0.18837687"
      ]
     },
     "execution_count": 59,
     "metadata": {},
     "output_type": "execute_result"
    }
   ],
   "source": [
    "parcel_ndvi = [v for v in parcel_ndvi.flatten() if v != 1.]\n",
    "np.mean(parcel_ndvi)"
   ]
  },
  {
   "cell_type": "code",
   "execution_count": 50,
   "metadata": {},
   "outputs": [
    {
     "data": {
      "text/plain": [
       "0.19007811"
      ]
     },
     "execution_count": 50,
     "metadata": {},
     "output_type": "execute_result"
    }
   ],
   "source": []
  },
  {
   "cell_type": "code",
   "execution_count": 55,
   "metadata": {},
   "outputs": [],
   "source": [
    "# np.mean(np.where((parcel_eg != 0), source_tile, 1), where=1.)"
   ]
  },
  {
   "cell_type": "code",
   "execution_count": null,
   "metadata": {},
   "outputs": [],
   "source": []
  }
 ],
 "metadata": {
  "interpreter": {
   "hash": "ee236caf935cb4ecc812feee2a6d771e555c3e0b3031fb09f3c20100e6a101dd"
  },
  "kernelspec": {
   "display_name": "Python 3.7.3 ('base')",
   "language": "python",
   "name": "python3"
  },
  "language_info": {
   "codemirror_mode": {
    "name": "ipython",
    "version": 3
   },
   "file_extension": ".py",
   "mimetype": "text/x-python",
   "name": "python",
   "nbconvert_exporter": "python",
   "pygments_lexer": "ipython3",
   "version": "3.7.3"
  },
  "orig_nbformat": 4
 },
 "nbformat": 4,
 "nbformat_minor": 2
}
